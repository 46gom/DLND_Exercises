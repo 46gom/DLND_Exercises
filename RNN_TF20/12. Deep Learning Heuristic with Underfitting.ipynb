{
 "cells": [
  {
   "cell_type": "markdown",
   "metadata": {},
   "source": [
    "# 실전 문제 해결 (과소적합)"
   ]
  },
  {
   "cell_type": "code",
   "execution_count": 1,
   "metadata": {},
   "outputs": [],
   "source": [
    "import tensorflow as tf\n",
    "import numpy as np"
   ]
  },
  {
   "cell_type": "markdown",
   "metadata": {},
   "source": [
    "## 하이퍼 파라미터"
   ]
  },
  {
   "cell_type": "code",
   "execution_count": 2,
   "metadata": {},
   "outputs": [],
   "source": [
    "EPOCHS = 100"
   ]
  },
  {
   "cell_type": "markdown",
   "metadata": {},
   "source": [
    "## 모델 정의"
   ]
  },
  {
   "cell_type": "code",
   "execution_count": 3,
   "metadata": {},
   "outputs": [],
   "source": [
    "class MyModel(tf.keras.Model):\n",
    "    def __init__(self):\n",
    "        super(MyModel, self).__init__()\n",
    "        self.flatten = tf.keras.layers.Flatten()\n",
    "        self.dense1 = tf.keras.layers.Dense(32, activation='relu')\n",
    "        self.dense2 = tf.keras.layers.Dense(64, activation='relu')\n",
    "        self.dense3 = tf.keras.layers.Dense(128, activation='relu')\n",
    "        self.dense4 = tf.keras.layers.Dense(256, activation='relu')\n",
    "        self.dense5 = tf.keras.layers.Dense(10, activation='softmax')\n",
    "\n",
    "    def call(self, x, training=False, mask=None):\n",
    "        x = self.flatten(x)\n",
    "        x = self.dense1(x)\n",
    "        x = self.dense2(x)\n",
    "        x = self.dense3(x)\n",
    "        x = self.dense4(x)\n",
    "        return self.dense5(x)"
   ]
  },
  {
   "cell_type": "markdown",
   "metadata": {},
   "source": [
    "## 데이터셋 준비\n"
   ]
  },
  {
   "cell_type": "code",
   "execution_count": 4,
   "metadata": {},
   "outputs": [
    {
     "name": "stdout",
     "output_type": "stream",
     "text": [
      "Downloading data from https://storage.googleapis.com/tensorflow/tf-keras-datasets/train-labels-idx1-ubyte.gz\n",
      "32768/29515 [=================================] - 0s 1us/step\n",
      "Downloading data from https://storage.googleapis.com/tensorflow/tf-keras-datasets/train-images-idx3-ubyte.gz\n",
      "26427392/26421880 [==============================] - 3s 0us/step\n",
      "Downloading data from https://storage.googleapis.com/tensorflow/tf-keras-datasets/t10k-labels-idx1-ubyte.gz\n",
      "8192/5148 [===============================================] - 0s 0us/step\n",
      "Downloading data from https://storage.googleapis.com/tensorflow/tf-keras-datasets/t10k-images-idx3-ubyte.gz\n",
      "4423680/4422102 [==============================] - 1s 0us/step\n"
     ]
    }
   ],
   "source": [
    "fashion_mnist = tf.keras.datasets.fashion_mnist\n",
    "\n",
    "(x_train, y_train), (x_test, y_test) = fashion_mnist.load_data()\n",
    "x_train, x_test = x_train / 255.0, x_test / 255.0\n",
    "\n",
    "x_train = x_train.astype(np.float32)\n",
    "x_test = x_test.astype(np.float32)\n",
    "\n",
    "train_ds = tf.data.Dataset.from_tensor_slices((x_train, y_train)).shuffle(10000).batch(32).prefetch(2048)\n",
    "test_ds = tf.data.Dataset.from_tensor_slices((x_test, y_test)).batch(32).prefetch(2048)"
   ]
  },
  {
   "cell_type": "markdown",
   "metadata": {},
   "source": [
    "## Keras API 모델 학습"
   ]
  },
  {
   "cell_type": "code",
   "execution_count": 5,
   "metadata": {
    "scrolled": true
   },
   "outputs": [
    {
     "name": "stdout",
     "output_type": "stream",
     "text": [
      "Epoch 1/100\n",
      "1875/1875 [==============================] - 15s 8ms/step - loss: 0.5192 - accuracy: 0.8106 - val_loss: 0.0000e+00 - val_accuracy: 0.0000e+00\n",
      "Epoch 2/100\n",
      "1875/1875 [==============================] - 7s 4ms/step - loss: 0.3880 - accuracy: 0.8566 - val_loss: 0.4162 - val_accuracy: 0.8496\n",
      "Epoch 3/100\n",
      "1875/1875 [==============================] - 7s 4ms/step - loss: 0.3511 - accuracy: 0.8704 - val_loss: 0.3677 - val_accuracy: 0.8675\n",
      "Epoch 4/100\n",
      "1875/1875 [==============================] - 7s 4ms/step - loss: 0.3320 - accuracy: 0.8775 - val_loss: 0.3795 - val_accuracy: 0.8598\n",
      "Epoch 5/100\n",
      "1875/1875 [==============================] - 7s 4ms/step - loss: 0.3134 - accuracy: 0.8838 - val_loss: 0.3618 - val_accuracy: 0.8681\n",
      "Epoch 6/100\n",
      "1875/1875 [==============================] - 7s 4ms/step - loss: 0.3035 - accuracy: 0.8873 - val_loss: 0.3705 - val_accuracy: 0.8660\n",
      "Epoch 7/100\n",
      "1875/1875 [==============================] - 7s 4ms/step - loss: 0.2935 - accuracy: 0.8904 - val_loss: 0.3525 - val_accuracy: 0.8736\n",
      "Epoch 8/100\n",
      "1875/1875 [==============================] - 7s 4ms/step - loss: 0.2830 - accuracy: 0.8930 - val_loss: 0.3467 - val_accuracy: 0.8751\n",
      "Epoch 9/100\n",
      "1875/1875 [==============================] - 7s 4ms/step - loss: 0.2752 - accuracy: 0.8971 - val_loss: 0.3686 - val_accuracy: 0.8684\n",
      "Epoch 10/100\n",
      "1875/1875 [==============================] - 6s 3ms/step - loss: 0.2653 - accuracy: 0.9007 - val_loss: 0.3564 - val_accuracy: 0.8755\n",
      "Epoch 11/100\n",
      "1875/1875 [==============================] - 6s 3ms/step - loss: 0.2606 - accuracy: 0.9027 - val_loss: 0.3908 - val_accuracy: 0.8640\n",
      "Epoch 12/100\n",
      "1875/1875 [==============================] - 7s 4ms/step - loss: 0.2531 - accuracy: 0.9042 - val_loss: 0.3397 - val_accuracy: 0.8813\n",
      "Epoch 13/100\n",
      "1875/1875 [==============================] - 7s 4ms/step - loss: 0.2478 - accuracy: 0.9042 - val_loss: 0.3470 - val_accuracy: 0.8788\n",
      "Epoch 14/100\n",
      "1875/1875 [==============================] - 7s 4ms/step - loss: 0.2386 - accuracy: 0.9090 - val_loss: 0.3696 - val_accuracy: 0.8764\n",
      "Epoch 15/100\n",
      "1875/1875 [==============================] - 7s 4ms/step - loss: 0.2362 - accuracy: 0.9093 - val_loss: 0.3728 - val_accuracy: 0.8805\n",
      "Epoch 16/100\n",
      "1875/1875 [==============================] - 7s 4ms/step - loss: 0.2330 - accuracy: 0.9113 - val_loss: 0.3650 - val_accuracy: 0.8799\n",
      "Epoch 17/100\n",
      "1875/1875 [==============================] - 7s 4ms/step - loss: 0.2275 - accuracy: 0.9125 - val_loss: 0.3585 - val_accuracy: 0.8797\n",
      "Epoch 18/100\n",
      "1875/1875 [==============================] - 8s 4ms/step - loss: 0.2218 - accuracy: 0.9151 - val_loss: 0.3628 - val_accuracy: 0.8796\n",
      "Epoch 19/100\n",
      "1875/1875 [==============================] - 8s 4ms/step - loss: 0.2183 - accuracy: 0.9156 - val_loss: 0.3594 - val_accuracy: 0.8838\n",
      "Epoch 20/100\n",
      "1875/1875 [==============================] - 8s 4ms/step - loss: 0.2142 - accuracy: 0.9177 - val_loss: 0.3575 - val_accuracy: 0.8859\n",
      "Epoch 21/100\n",
      "1875/1875 [==============================] - 8s 4ms/step - loss: 0.2129 - accuracy: 0.9178 - val_loss: 0.3846 - val_accuracy: 0.8825\n",
      "Epoch 22/100\n",
      "1875/1875 [==============================] - 7s 4ms/step - loss: 0.2057 - accuracy: 0.9206 - val_loss: 0.3757 - val_accuracy: 0.8793\n",
      "Epoch 23/100\n",
      "1875/1875 [==============================] - 7s 4ms/step - loss: 0.2063 - accuracy: 0.9208 - val_loss: 0.4247 - val_accuracy: 0.8751\n",
      "Epoch 24/100\n",
      "1875/1875 [==============================] - 7s 4ms/step - loss: 0.2020 - accuracy: 0.9212 - val_loss: 0.3926 - val_accuracy: 0.8802\n",
      "Epoch 25/100\n",
      "1875/1875 [==============================] - 7s 4ms/step - loss: 0.2000 - accuracy: 0.9235 - val_loss: 0.4169 - val_accuracy: 0.8799\n",
      "Epoch 26/100\n",
      "1875/1875 [==============================] - 8s 4ms/step - loss: 0.1964 - accuracy: 0.9249 - val_loss: 0.3950 - val_accuracy: 0.8850\n",
      "Epoch 27/100\n",
      "1875/1875 [==============================] - 8s 4ms/step - loss: 0.1897 - accuracy: 0.9267 - val_loss: 0.3969 - val_accuracy: 0.8876\n",
      "Epoch 28/100\n",
      "1875/1875 [==============================] - 8s 4ms/step - loss: 0.1908 - accuracy: 0.9259 - val_loss: 0.4108 - val_accuracy: 0.8835\n",
      "Epoch 29/100\n",
      "1875/1875 [==============================] - 8s 4ms/step - loss: 0.1861 - accuracy: 0.9283 - val_loss: 0.4196 - val_accuracy: 0.8799\n",
      "Epoch 30/100\n",
      "1875/1875 [==============================] - 7s 4ms/step - loss: 0.1854 - accuracy: 0.9283 - val_loss: 0.4230 - val_accuracy: 0.8800\n",
      "Epoch 31/100\n",
      "1875/1875 [==============================] - 7s 4ms/step - loss: 0.1826 - accuracy: 0.9303 - val_loss: 0.4068 - val_accuracy: 0.8785\n",
      "Epoch 32/100\n",
      "1875/1875 [==============================] - 7s 4ms/step - loss: 0.1804 - accuracy: 0.9297 - val_loss: 0.4085 - val_accuracy: 0.8818\n",
      "Epoch 33/100\n",
      "1875/1875 [==============================] - 7s 4ms/step - loss: 0.1748 - accuracy: 0.9319 - val_loss: 0.4586 - val_accuracy: 0.8834\n",
      "Epoch 34/100\n",
      "1875/1875 [==============================] - 7s 4ms/step - loss: 0.1777 - accuracy: 0.9315 - val_loss: 0.4464 - val_accuracy: 0.8813\n",
      "Epoch 35/100\n",
      "1875/1875 [==============================] - 8s 4ms/step - loss: 0.1726 - accuracy: 0.9339 - val_loss: 0.4329 - val_accuracy: 0.8846\n",
      "Epoch 36/100\n",
      "1875/1875 [==============================] - 8s 4ms/step - loss: 0.1729 - accuracy: 0.9332 - val_loss: 0.4810 - val_accuracy: 0.8741\n",
      "Epoch 37/100\n",
      "1875/1875 [==============================] - 8s 4ms/step - loss: 0.1693 - accuracy: 0.9347 - val_loss: 0.4729 - val_accuracy: 0.8793\n",
      "Epoch 38/100\n",
      "1875/1875 [==============================] - 8s 4ms/step - loss: 0.1671 - accuracy: 0.9348 - val_loss: 0.4922 - val_accuracy: 0.8838\n",
      "Epoch 39/100\n",
      "1875/1875 [==============================] - 7s 4ms/step - loss: 0.1685 - accuracy: 0.9355 - val_loss: 0.4637 - val_accuracy: 0.8837\n",
      "Epoch 40/100\n",
      "1875/1875 [==============================] - 8s 4ms/step - loss: 0.1626 - accuracy: 0.9368 - val_loss: 0.4536 - val_accuracy: 0.8829\n",
      "Epoch 41/100\n",
      "1875/1875 [==============================] - 9s 5ms/step - loss: 0.1625 - accuracy: 0.9369 - val_loss: 0.4837 - val_accuracy: 0.8808\n",
      "Epoch 42/100\n",
      "1875/1875 [==============================] - 8s 4ms/step - loss: 0.1576 - accuracy: 0.9386 - val_loss: 0.4654 - val_accuracy: 0.8844\n",
      "Epoch 43/100\n",
      "1875/1875 [==============================] - 8s 4ms/step - loss: 0.1638 - accuracy: 0.9388 - val_loss: 0.4957 - val_accuracy: 0.8771\n",
      "Epoch 44/100\n",
      "1875/1875 [==============================] - 7s 4ms/step - loss: 0.1579 - accuracy: 0.9391 - val_loss: 0.4816 - val_accuracy: 0.8825\n",
      "Epoch 45/100\n",
      "1875/1875 [==============================] - 7s 3ms/step - loss: 0.1547 - accuracy: 0.9406 - val_loss: 0.4804 - val_accuracy: 0.8818\n",
      "Epoch 46/100\n",
      "1875/1875 [==============================] - 7s 4ms/step - loss: 0.1570 - accuracy: 0.9405 - val_loss: 0.4893 - val_accuracy: 0.8819\n",
      "Epoch 47/100\n",
      "1875/1875 [==============================] - 7s 4ms/step - loss: 0.1504 - accuracy: 0.9427 - val_loss: 0.5377 - val_accuracy: 0.8768\n",
      "Epoch 48/100\n",
      "1875/1875 [==============================] - 8s 4ms/step - loss: 0.1554 - accuracy: 0.9408 - val_loss: 0.4788 - val_accuracy: 0.8833\n",
      "Epoch 49/100\n",
      "1875/1875 [==============================] - 8s 4ms/step - loss: 0.1484 - accuracy: 0.9417 - val_loss: 0.5150 - val_accuracy: 0.8823\n",
      "Epoch 50/100\n",
      "1875/1875 [==============================] - 7s 4ms/step - loss: 0.1459 - accuracy: 0.9436 - val_loss: 0.5297 - val_accuracy: 0.8815\n",
      "Epoch 51/100\n",
      "1875/1875 [==============================] - 7s 4ms/step - loss: 0.1461 - accuracy: 0.9437 - val_loss: 0.5676 - val_accuracy: 0.8823\n",
      "Epoch 52/100\n",
      "1875/1875 [==============================] - 8s 4ms/step - loss: 0.1473 - accuracy: 0.9426 - val_loss: 0.5260 - val_accuracy: 0.8840\n",
      "Epoch 53/100\n",
      "1875/1875 [==============================] - 7s 4ms/step - loss: 0.1454 - accuracy: 0.9446 - val_loss: 0.5949 - val_accuracy: 0.8819\n",
      "Epoch 54/100\n",
      "1875/1875 [==============================] - 7s 4ms/step - loss: 0.1438 - accuracy: 0.9439 - val_loss: 0.5440 - val_accuracy: 0.8798\n",
      "Epoch 55/100\n",
      "1875/1875 [==============================] - 8s 4ms/step - loss: 0.1393 - accuracy: 0.9463 - val_loss: 0.5771 - val_accuracy: 0.8817\n",
      "Epoch 56/100\n",
      "1875/1875 [==============================] - 8s 4ms/step - loss: 0.1441 - accuracy: 0.9446 - val_loss: 0.5412 - val_accuracy: 0.8840\n",
      "Epoch 57/100\n"
     ]
    },
    {
     "name": "stdout",
     "output_type": "stream",
     "text": [
      "1875/1875 [==============================] - 7s 4ms/step - loss: 0.1356 - accuracy: 0.9472 - val_loss: 0.5877 - val_accuracy: 0.8784\n",
      "Epoch 58/100\n",
      "1875/1875 [==============================] - 7s 4ms/step - loss: 0.1392 - accuracy: 0.9466 - val_loss: 0.6587 - val_accuracy: 0.8768\n",
      "Epoch 59/100\n",
      "1875/1875 [==============================] - 7s 4ms/step - loss: 0.1357 - accuracy: 0.9475 - val_loss: 0.6125 - val_accuracy: 0.8762\n",
      "Epoch 60/100\n",
      "1875/1875 [==============================] - 7s 4ms/step - loss: 0.1400 - accuracy: 0.9479 - val_loss: 0.5818 - val_accuracy: 0.8724\n",
      "Epoch 61/100\n",
      "1875/1875 [==============================] - 7s 4ms/step - loss: 0.1320 - accuracy: 0.9473 - val_loss: 0.5876 - val_accuracy: 0.8776\n",
      "Epoch 62/100\n",
      "1875/1875 [==============================] - 8s 4ms/step - loss: 0.1387 - accuracy: 0.9469 - val_loss: 0.6160 - val_accuracy: 0.8818\n",
      "Epoch 63/100\n",
      "1875/1875 [==============================] - 7s 4ms/step - loss: 0.1302 - accuracy: 0.9492 - val_loss: 0.5670 - val_accuracy: 0.8842\n",
      "Epoch 64/100\n",
      "1875/1875 [==============================] - 7s 4ms/step - loss: 0.1342 - accuracy: 0.9495 - val_loss: 0.6032 - val_accuracy: 0.8714\n",
      "Epoch 65/100\n",
      "1875/1875 [==============================] - 7s 4ms/step - loss: 0.1344 - accuracy: 0.9495 - val_loss: 0.6068 - val_accuracy: 0.8869\n",
      "Epoch 66/100\n",
      "1875/1875 [==============================] - 8s 4ms/step - loss: 0.1328 - accuracy: 0.9497 - val_loss: 0.6741 - val_accuracy: 0.8761\n",
      "Epoch 67/100\n",
      "1875/1875 [==============================] - 8s 4ms/step - loss: 0.1312 - accuracy: 0.9503 - val_loss: 0.5528 - val_accuracy: 0.8800\n",
      "Epoch 68/100\n",
      "1875/1875 [==============================] - 8s 4ms/step - loss: 0.1295 - accuracy: 0.9501 - val_loss: 0.6757 - val_accuracy: 0.8836\n",
      "Epoch 69/100\n",
      "1875/1875 [==============================] - 8s 4ms/step - loss: 0.1277 - accuracy: 0.9515 - val_loss: 0.6783 - val_accuracy: 0.8815\n",
      "Epoch 70/100\n",
      "1875/1875 [==============================] - 8s 4ms/step - loss: 0.1245 - accuracy: 0.9528 - val_loss: 0.6615 - val_accuracy: 0.8882\n",
      "Epoch 71/100\n",
      "1875/1875 [==============================] - 8s 4ms/step - loss: 0.1264 - accuracy: 0.9515 - val_loss: 0.6786 - val_accuracy: 0.8824\n",
      "Epoch 72/100\n",
      "1875/1875 [==============================] - 8s 4ms/step - loss: 0.1252 - accuracy: 0.9526 - val_loss: 0.6698 - val_accuracy: 0.8769\n",
      "Epoch 73/100\n",
      "1875/1875 [==============================] - 8s 4ms/step - loss: 0.1238 - accuracy: 0.9524 - val_loss: 0.6314 - val_accuracy: 0.8796\n",
      "Epoch 74/100\n",
      "1875/1875 [==============================] - 8s 4ms/step - loss: 0.1297 - accuracy: 0.9505 - val_loss: 0.6843 - val_accuracy: 0.8877\n",
      "Epoch 75/100\n",
      "1875/1875 [==============================] - 8s 4ms/step - loss: 0.1243 - accuracy: 0.9537 - val_loss: 0.6941 - val_accuracy: 0.8835\n",
      "Epoch 76/100\n",
      "1875/1875 [==============================] - 8s 4ms/step - loss: 0.1302 - accuracy: 0.9513 - val_loss: 0.7121 - val_accuracy: 0.8830\n",
      "Epoch 77/100\n",
      "1875/1875 [==============================] - 7s 4ms/step - loss: 0.1253 - accuracy: 0.9527 - val_loss: 0.7211 - val_accuracy: 0.8825\n",
      "Epoch 78/100\n",
      "1875/1875 [==============================] - 7s 4ms/step - loss: 0.1232 - accuracy: 0.9538 - val_loss: 0.7273 - val_accuracy: 0.8834\n",
      "Epoch 79/100\n",
      "1875/1875 [==============================] - 8s 4ms/step - loss: 0.1215 - accuracy: 0.9527 - val_loss: 0.7255 - val_accuracy: 0.8822\n",
      "Epoch 80/100\n",
      "1875/1875 [==============================] - 8s 4ms/step - loss: 0.1228 - accuracy: 0.9538 - val_loss: 0.6963 - val_accuracy: 0.8825\n",
      "Epoch 81/100\n",
      "1875/1875 [==============================] - 8s 4ms/step - loss: 0.1272 - accuracy: 0.9533 - val_loss: 0.6731 - val_accuracy: 0.8825\n",
      "Epoch 82/100\n",
      "1875/1875 [==============================] - 8s 5ms/step - loss: 0.1213 - accuracy: 0.9543 - val_loss: 0.7056 - val_accuracy: 0.8818\n",
      "Epoch 83/100\n",
      "1875/1875 [==============================] - 8s 4ms/step - loss: 0.1226 - accuracy: 0.9543 - val_loss: 0.7614 - val_accuracy: 0.8806\n",
      "Epoch 84/100\n",
      "1875/1875 [==============================] - 8s 4ms/step - loss: 0.1221 - accuracy: 0.9551 - val_loss: 0.7754 - val_accuracy: 0.8751\n",
      "Epoch 85/100\n",
      "1875/1875 [==============================] - 8s 5ms/step - loss: 0.1180 - accuracy: 0.9552 - val_loss: 0.7667 - val_accuracy: 0.8856\n",
      "Epoch 86/100\n",
      "1875/1875 [==============================] - 8s 5ms/step - loss: 0.1156 - accuracy: 0.9564 - val_loss: 0.7976 - val_accuracy: 0.8793\n",
      "Epoch 87/100\n",
      "1875/1875 [==============================] - 8s 4ms/step - loss: 0.1250 - accuracy: 0.9543 - val_loss: 0.8098 - val_accuracy: 0.8758\n",
      "Epoch 88/100\n",
      "1875/1875 [==============================] - 8s 4ms/step - loss: 0.1229 - accuracy: 0.9553 - val_loss: 0.7445 - val_accuracy: 0.8810\n",
      "Epoch 89/100\n",
      "1875/1875 [==============================] - 8s 4ms/step - loss: 0.1175 - accuracy: 0.9559 - val_loss: 0.7766 - val_accuracy: 0.8812\n",
      "Epoch 90/100\n",
      "1875/1875 [==============================] - 8s 4ms/step - loss: 0.1195 - accuracy: 0.9554 - val_loss: 0.8418 - val_accuracy: 0.8803\n",
      "Epoch 91/100\n",
      "1875/1875 [==============================] - 8s 4ms/step - loss: 0.1177 - accuracy: 0.9558 - val_loss: 0.7614 - val_accuracy: 0.8830\n",
      "Epoch 92/100\n",
      "1875/1875 [==============================] - 8s 4ms/step - loss: 0.1166 - accuracy: 0.9561 - val_loss: 0.7932 - val_accuracy: 0.8791\n",
      "Epoch 93/100\n",
      "1875/1875 [==============================] - 8s 4ms/step - loss: 0.1146 - accuracy: 0.9567 - val_loss: 0.7879 - val_accuracy: 0.8827\n",
      "Epoch 94/100\n",
      "1875/1875 [==============================] - 8s 4ms/step - loss: 0.1176 - accuracy: 0.9567 - val_loss: 0.7711 - val_accuracy: 0.8845\n",
      "Epoch 95/100\n",
      "1875/1875 [==============================] - 8s 4ms/step - loss: 0.1166 - accuracy: 0.9569 - val_loss: 0.8076 - val_accuracy: 0.8796\n",
      "Epoch 96/100\n",
      "1875/1875 [==============================] - 8s 4ms/step - loss: 0.1161 - accuracy: 0.9562 - val_loss: 0.8046 - val_accuracy: 0.8721\n",
      "Epoch 97/100\n",
      "1875/1875 [==============================] - 8s 4ms/step - loss: 0.1111 - accuracy: 0.9578 - val_loss: 0.7982 - val_accuracy: 0.8738\n",
      "Epoch 98/100\n",
      "1875/1875 [==============================] - 8s 4ms/step - loss: 0.1097 - accuracy: 0.9590 - val_loss: 0.8598 - val_accuracy: 0.8814\n",
      "Epoch 99/100\n",
      "1875/1875 [==============================] - 8s 4ms/step - loss: 0.1140 - accuracy: 0.9579 - val_loss: 0.8784 - val_accuracy: 0.8781\n",
      "Epoch 100/100\n",
      "1875/1875 [==============================] - 8s 4ms/step - loss: 0.1165 - accuracy: 0.9573 - val_loss: 0.7777 - val_accuracy: 0.8802\n"
     ]
    },
    {
     "data": {
      "text/plain": [
       "<tensorflow.python.keras.callbacks.History at 0x1369d9710>"
      ]
     },
     "execution_count": 5,
     "metadata": {},
     "output_type": "execute_result"
    }
   ],
   "source": [
    "model = MyModel()\n",
    "model.compile(optimizer='adam',\n",
    "              loss='sparse_categorical_crossentropy',\n",
    "              metrics=['accuracy'])\n",
    "model.fit(train_ds, validation_data=test_ds, epochs=EPOCHS)"
   ]
  },
  {
   "cell_type": "code",
   "execution_count": null,
   "metadata": {},
   "outputs": [],
   "source": []
  }
 ],
 "metadata": {
  "kernelspec": {
   "display_name": "dlnd",
   "language": "python",
   "name": "dlnd"
  },
  "language_info": {
   "codemirror_mode": {
    "name": "ipython",
    "version": 3
   },
   "file_extension": ".py",
   "mimetype": "text/x-python",
   "name": "python",
   "nbconvert_exporter": "python",
   "pygments_lexer": "ipython3",
   "version": "3.6.9"
  }
 },
 "nbformat": 4,
 "nbformat_minor": 2
}
