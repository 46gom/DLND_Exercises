{
 "cells": [
  {
   "cell_type": "code",
   "execution_count": 1,
   "metadata": {
    "slideshow": {
     "slide_type": "slide"
    }
   },
   "outputs": [],
   "source": [
    "from IPython.display import Image\n",
    "Image(filename='./images/0-0-1-1_opening.jpg')"
   ]
  },
  {
   "cell_type": "markdown",
   "metadata": {
    "slideshow": {
     "slide_type": "slide"
    }
   },
   "source": [
    "# Learning Plan"
   ]
  },
  {
   "cell_type": "markdown",
   "metadata": {
    "slideshow": {
     "slide_type": "subslide"
    }
   },
   "source": [
    "### Lesson 0-1 : Prerequisites 1 - Python\n",
    "\n",
    "### Lesson 0-2 : Prerequisites 2 - Jupyter Notebook\n",
    "\n",
    "### Lesson 1-3 : Prerequisites 3 - Linear Algebra\n"
   ]
  },
  {
   "cell_type": "markdown",
   "metadata": {
    "slideshow": {
     "slide_type": "subslide"
    }
   },
   "source": [
    "### Lesson 0-4 : Prerequisites 4 - Numpy\n",
    "\n",
    "### Lesson 0-5 : Prerequisites 5 - Visualization\n"
   ]
  },
  {
   "cell_type": "markdown",
   "metadata": {
    "slideshow": {
     "slide_type": "slide"
    }
   },
   "source": [
    "# Lesson 0-3: Prerequisites 3 -Linear Algebra"
   ]
  },
  {
   "cell_type": "markdown",
   "metadata": {
    "slideshow": {
     "slide_type": "subslide"
    }
   },
   "source": [
    "## Additional References\n",
    "\n",
    "* Khan Academy : https://ko.khanacademy.org/math/linear-algebra\n",
    "* Gilbert Strang's MIT : https://ocw.mit.edu/courses/mathematics/18-06-linear-algebra-spring-2010/\n",
    "* Edwith : https://www.edwith.org/linearalgebra4ai/joinLectures/14072"
   ]
  },
  {
   "cell_type": "markdown",
   "metadata": {
    "slideshow": {
     "slide_type": "subslide"
    }
   },
   "source": [
    "![](./images/0-3-1-1.jpg)\n",
    "\n",
    "reference : Edwith '인공지능을 위한 선형대수' by 주재걸 교수"
   ]
  },
  {
   "cell_type": "markdown",
   "metadata": {
    "slideshow": {
     "slide_type": "slide"
    }
   },
   "source": [
    "## 0-3-1 : Elements in Linear Algebra"
   ]
  },
  {
   "cell_type": "markdown",
   "metadata": {
    "slideshow": {
     "slide_type": "subslide"
    }
   },
   "source": [
    "![](./images/0-3-1-2.jpg)\n",
    "\n",
    "reference : Edwith '인공지능을 위한 선형대수' by 주재걸 교수"
   ]
  },
  {
   "cell_type": "markdown",
   "metadata": {
    "slideshow": {
     "slide_type": "subslide"
    }
   },
   "source": [
    "![](./images/0-3-1-4.jpg)\n",
    "\n",
    "reference : Edwith '인공지능을 위한 선형대수' by 주재걸 교수"
   ]
  },
  {
   "cell_type": "markdown",
   "metadata": {
    "slideshow": {
     "slide_type": "subslide"
    }
   },
   "source": [
    "![](./images/0-3-1-5.jpg)\n",
    "\n",
    "reference : Edwith '인공지능을 위한 선형대수' by 주재걸 교수"
   ]
  },
  {
   "cell_type": "markdown",
   "metadata": {
    "slideshow": {
     "slide_type": "subslide"
    }
   },
   "source": [
    "![](./images/0-3-1-6.jpg)\n",
    "\n",
    "reference : Edwith '인공지능을 위한 선형대수' by 주재걸 교수"
   ]
  },
  {
   "cell_type": "markdown",
   "metadata": {
    "slideshow": {
     "slide_type": "subslide"
    }
   },
   "source": [
    "![](./images/0-3-1-7.jpg)\n",
    "\n",
    "reference : Edwith '인공지능을 위한 선형대수' by 주재걸 교수"
   ]
  },
  {
   "cell_type": "markdown",
   "metadata": {
    "slideshow": {
     "slide_type": "subslide"
    }
   },
   "source": [
    "![](./images/0-3-1-8.jpg)\n",
    "\n",
    "reference : Edwith '인공지능을 위한 선형대수' by 주재걸 교수"
   ]
  },
  {
   "cell_type": "markdown",
   "metadata": {
    "slideshow": {
     "slide_type": "slide"
    }
   },
   "source": [
    "## 0-3-2 : Linear System"
   ]
  },
  {
   "cell_type": "markdown",
   "metadata": {
    "slideshow": {
     "slide_type": "subslide"
    }
   },
   "source": [
    "![](./images/0-3-2-1.jpg)\n",
    "\n",
    "reference : Edwith '인공지능을 위한 선형대수' by 주재걸 교수"
   ]
  },
  {
   "cell_type": "markdown",
   "metadata": {
    "slideshow": {
     "slide_type": "subslide"
    }
   },
   "source": [
    "![](./images/0-3-2-2.jpg)\n",
    "\n",
    "reference : Edwith '인공지능을 위한 선형대수' by 주재걸 교수"
   ]
  },
  {
   "cell_type": "markdown",
   "metadata": {
    "slideshow": {
     "slide_type": "subslide"
    }
   },
   "source": [
    "![](./images/0-3-2-3.jpg)\n",
    "\n",
    "reference : Edwith '인공지능을 위한 선형대수' by 주재걸 교수"
   ]
  },
  {
   "cell_type": "markdown",
   "metadata": {
    "slideshow": {
     "slide_type": "subslide"
    }
   },
   "source": [
    "![](./images/0-3-2-4.jpg)\n",
    "\n",
    "reference : Edwith '인공지능을 위한 선형대수' by 주재걸 교수"
   ]
  },
  {
   "cell_type": "markdown",
   "metadata": {
    "slideshow": {
     "slide_type": "subslide"
    }
   },
   "source": [
    "![](./images/0-3-2-5.jpg)\n",
    "\n",
    "reference : Edwith '인공지능을 위한 선형대수' by 주재걸 교수"
   ]
  },
  {
   "cell_type": "markdown",
   "metadata": {
    "slideshow": {
     "slide_type": "subslide"
    }
   },
   "source": [
    "![](./images/0-3-2-6.jpg)\n",
    "\n",
    "reference : Edwith '인공지능을 위한 선형대수' by 주재걸 교수"
   ]
  },
  {
   "cell_type": "markdown",
   "metadata": {
    "slideshow": {
     "slide_type": "subslide"
    }
   },
   "source": [
    "![](./images/0-3-2-7.jpg)\n",
    "\n",
    "reference : Edwith '인공지능을 위한 선형대수' by 주재걸 교수"
   ]
  },
  {
   "cell_type": "markdown",
   "metadata": {
    "slideshow": {
     "slide_type": "subslide"
    }
   },
   "source": [
    "![](./images/0-3-2-8.jpg)\n",
    "\n",
    "reference : Edwith '인공지능을 위한 선형대수' by 주재걸 교수"
   ]
  },
  {
   "cell_type": "markdown",
   "metadata": {
    "slideshow": {
     "slide_type": "subslide"
    }
   },
   "source": [
    "![](./images/0-3-2-9.jpg)\n",
    "\n",
    "reference : Edwith '인공지능을 위한 선형대수' by 주재걸 교수"
   ]
  },
  {
   "cell_type": "markdown",
   "metadata": {
    "slideshow": {
     "slide_type": "subslide"
    }
   },
   "source": [
    "![](./images/0-3-2-10.jpg)\n",
    "\n",
    "reference : Edwith '인공지능을 위한 선형대수' by 주재걸 교수"
   ]
  },
  {
   "cell_type": "markdown",
   "metadata": {
    "slideshow": {
     "slide_type": "subslide"
    }
   },
   "source": [
    "![](./images/0-3-2-11.jpg)\n",
    "\n",
    "reference : Edwith '인공지능을 위한 선형대수' by 주재걸 교수"
   ]
  },
  {
   "cell_type": "markdown",
   "metadata": {
    "slideshow": {
     "slide_type": "subslide"
    }
   },
   "source": [
    "![](./images/0-3-2-12.jpg)\n",
    "\n",
    "reference : Edwith '인공지능을 위한 선형대수' by 주재걸 교수"
   ]
  },
  {
   "cell_type": "markdown",
   "metadata": {
    "slideshow": {
     "slide_type": "subslide"
    }
   },
   "source": [
    "![](./images/0-3-2-13.jpg)\n",
    "\n",
    "reference : Edwith '인공지능을 위한 선형대수' by 주재걸 교수"
   ]
  },
  {
   "cell_type": "markdown",
   "metadata": {
    "slideshow": {
     "slide_type": "subslide"
    }
   },
   "source": [
    "![](./images/0-3-2-14.jpg)\n",
    "\n",
    "reference : Edwith '인공지능을 위한 선형대수' by 주재걸 교수"
   ]
  },
  {
   "cell_type": "markdown",
   "metadata": {
    "slideshow": {
     "slide_type": "subslide"
    }
   },
   "source": [
    "![](./images/0-3-2-15.jpg)\n",
    "\n",
    "reference : Edwith '인공지능을 위한 선형대수' by 주재걸 교수"
   ]
  },
  {
   "cell_type": "markdown",
   "metadata": {
    "slideshow": {
     "slide_type": "slide"
    }
   },
   "source": [
    "## 0-3-3 : Linear Algebra Hands-on 01\n",
    "\n",
    "### [Hands-on]\n",
    "\n",
    "<a href=\"../Linear_Algebra/01_LinearSystem_and_LinearTransformation/03_Hands-on_01.ipynb\">03_Hands-on_01.ipynb</a>"
   ]
  },
  {
   "cell_type": "markdown",
   "metadata": {
    "slideshow": {
     "slide_type": "slide"
    }
   },
   "source": [
    "## 0-3-4 : Linear Combination, Vector Equation, Four views of Matrix Multiplication"
   ]
  },
  {
   "cell_type": "markdown",
   "metadata": {
    "slideshow": {
     "slide_type": "subslide"
    }
   },
   "source": [
    "![](./images/0-3-4-1.jpg)\n",
    "\n",
    "reference : Edwith '인공지능을 위한 선형대수' by 주재걸 교수"
   ]
  },
  {
   "cell_type": "markdown",
   "metadata": {
    "slideshow": {
     "slide_type": "subslide"
    }
   },
   "source": [
    "![](./images/0-3-4-2.jpg)\n",
    "\n",
    "reference : Edwith '인공지능을 위한 선형대수' by 주재걸 교수"
   ]
  },
  {
   "cell_type": "markdown",
   "metadata": {
    "slideshow": {
     "slide_type": "subslide"
    }
   },
   "source": [
    "![](./images/0-3-4-3.jpg)\n",
    "\n",
    "reference : Edwith '인공지능을 위한 선형대수' by 주재걸 교수"
   ]
  },
  {
   "cell_type": "markdown",
   "metadata": {
    "slideshow": {
     "slide_type": "subslide"
    }
   },
   "source": [
    "![](./images/0-3-4-4.jpg)\n",
    "\n",
    "reference : Edwith '인공지능을 위한 선형대수' by 주재걸 교수"
   ]
  },
  {
   "cell_type": "markdown",
   "metadata": {
    "slideshow": {
     "slide_type": "subslide"
    }
   },
   "source": [
    "![](./images/0-3-4-5.jpg)\n",
    "\n",
    "reference : Edwith '인공지능을 위한 선형대수' by 주재걸 교수"
   ]
  },
  {
   "cell_type": "markdown",
   "metadata": {
    "slideshow": {
     "slide_type": "subslide"
    }
   },
   "source": [
    "![](./images/0-3-4-6.jpg)\n",
    "\n",
    "reference : Edwith '인공지능을 위한 선형대수' by 주재걸 교수"
   ]
  },
  {
   "cell_type": "markdown",
   "metadata": {
    "slideshow": {
     "slide_type": "subslide"
    }
   },
   "source": [
    "![](./images/0-3-4-7.jpg)\n",
    "\n",
    "reference : Edwith '인공지능을 위한 선형대수' by 주재걸 교수"
   ]
  },
  {
   "cell_type": "markdown",
   "metadata": {
    "slideshow": {
     "slide_type": "subslide"
    }
   },
   "source": [
    "![](./images/0-3-4-8.jpg)\n",
    "\n",
    "reference : Edwith '인공지능을 위한 선형대수' by 주재걸 교수"
   ]
  },
  {
   "cell_type": "markdown",
   "metadata": {
    "slideshow": {
     "slide_type": "subslide"
    }
   },
   "source": [
    "![](./images/0-3-4-9.jpg)\n",
    "\n",
    "reference : Edwith '인공지능을 위한 선형대수' by 주재걸 교수"
   ]
  },
  {
   "cell_type": "markdown",
   "metadata": {
    "slideshow": {
     "slide_type": "subslide"
    }
   },
   "source": [
    "![](./images/0-3-4-10.jpg)\n",
    "\n",
    "reference : Edwith '인공지능을 위한 선형대수' by 주재걸 교수"
   ]
  },
  {
   "cell_type": "markdown",
   "metadata": {
    "slideshow": {
     "slide_type": "subslide"
    }
   },
   "source": [
    "![](./images/0-3-4-11.jpg)\n",
    "\n",
    "reference : Edwith '인공지능을 위한 선형대수' by 주재걸 교수"
   ]
  },
  {
   "cell_type": "markdown",
   "metadata": {
    "slideshow": {
     "slide_type": "subslide"
    }
   },
   "source": [
    "## 0-3-5 : Linear Independence, Span, Subspace"
   ]
  },
  {
   "cell_type": "markdown",
   "metadata": {
    "slideshow": {
     "slide_type": "subslide"
    }
   },
   "source": [
    "![](./images/0-3-5-1.jpg)\n",
    "\n",
    "reference : Edwith '인공지능을 위한 선형대수' by 주재걸 교수"
   ]
  },
  {
   "cell_type": "markdown",
   "metadata": {
    "slideshow": {
     "slide_type": "subslide"
    }
   },
   "source": [
    "![](./images/0-3-5-2.jpg)\n",
    "\n",
    "reference : Edwith '인공지능을 위한 선형대수' by 주재걸 교수"
   ]
  },
  {
   "cell_type": "markdown",
   "metadata": {
    "slideshow": {
     "slide_type": "subslide"
    }
   },
   "source": [
    "![](./images/0-3-5-3.jpg)\n",
    "\n",
    "reference : Edwith '인공지능을 위한 선형대수' by 주재걸 교수"
   ]
  },
  {
   "cell_type": "markdown",
   "metadata": {
    "slideshow": {
     "slide_type": "subslide"
    }
   },
   "source": [
    "![](./images/0-3-5-4.jpg)\n",
    "\n",
    "reference : Edwith '인공지능을 위한 선형대수' by 주재걸 교수"
   ]
  },
  {
   "cell_type": "markdown",
   "metadata": {
    "slideshow": {
     "slide_type": "subslide"
    }
   },
   "source": [
    "![](./images/0-3-5-5.jpg)\n",
    "\n",
    "reference : Edwith '인공지능을 위한 선형대수' by 주재걸 교수"
   ]
  },
  {
   "cell_type": "markdown",
   "metadata": {
    "slideshow": {
     "slide_type": "subslide"
    }
   },
   "source": [
    "![](./images/0-3-5-6.jpg)\n",
    "\n",
    "reference : Edwith '인공지능을 위한 선형대수' by 주재걸 교수"
   ]
  },
  {
   "cell_type": "markdown",
   "metadata": {
    "slideshow": {
     "slide_type": "subslide"
    }
   },
   "source": [
    "![](./images/0-3-5-7.jpg)\n",
    "\n",
    "reference : Edwith '인공지능을 위한 선형대수' by 주재걸 교수"
   ]
  },
  {
   "cell_type": "markdown",
   "metadata": {
    "slideshow": {
     "slide_type": "subslide"
    }
   },
   "source": [
    "![](./images/0-3-5-8.jpg)\n",
    "\n",
    "reference : Edwith '인공지능을 위한 선형대수' by 주재걸 교수"
   ]
  },
  {
   "cell_type": "markdown",
   "metadata": {
    "slideshow": {
     "slide_type": "subslide"
    }
   },
   "source": [
    "![](./images/0-3-5-9.jpg)\n",
    "\n",
    "reference : Edwith '인공지능을 위한 선형대수' by 주재걸 교수"
   ]
  },
  {
   "cell_type": "markdown",
   "metadata": {
    "slideshow": {
     "slide_type": "subslide"
    }
   },
   "source": [
    "![](./images/0-3-5-10.jpg)\n",
    "\n",
    "reference : Edwith '인공지능을 위한 선형대수' by 주재걸 교수"
   ]
  },
  {
   "cell_type": "markdown",
   "metadata": {
    "slideshow": {
     "slide_type": "subslide"
    }
   },
   "source": [
    "![](./images/0-3-5-11.jpg)\n",
    "\n",
    "reference : Edwith '인공지능을 위한 선형대수' by 주재걸 교수"
   ]
  },
  {
   "cell_type": "markdown",
   "metadata": {
    "slideshow": {
     "slide_type": "subslide"
    }
   },
   "source": [
    "![](./images/0-3-5-12.jpg)\n",
    "\n",
    "reference : Edwith '인공지능을 위한 선형대수' by 주재걸 교수"
   ]
  },
  {
   "cell_type": "markdown",
   "metadata": {
    "slideshow": {
     "slide_type": "subslide"
    }
   },
   "source": [
    "![](./images/0-3-5-13.jpg)\n",
    "\n",
    "reference : Edwith '인공지능을 위한 선형대수' by 주재걸 교수"
   ]
  },
  {
   "cell_type": "markdown",
   "metadata": {
    "slideshow": {
     "slide_type": "subslide"
    }
   },
   "source": [
    "![](./images/0-3-5-14.jpg)\n",
    "\n",
    "reference : Edwith '인공지능을 위한 선형대수' by 주재걸 교수"
   ]
  },
  {
   "cell_type": "markdown",
   "metadata": {
    "slideshow": {
     "slide_type": "subslide"
    }
   },
   "source": [
    "![](./images/0-3-5-15.jpg)\n",
    "\n",
    "reference : Edwith '인공지능을 위한 선형대수' by 주재걸 교수"
   ]
  },
  {
   "cell_type": "markdown",
   "metadata": {
    "slideshow": {
     "slide_type": "subslide"
    }
   },
   "source": [
    "![](./images/0-3-5-16.jpg)\n",
    "\n",
    "reference : Edwith '인공지능을 위한 선형대수' by 주재걸 교수"
   ]
  },
  {
   "cell_type": "markdown",
   "metadata": {
    "slideshow": {
     "slide_type": "subslide"
    }
   },
   "source": [
    "![](./images/0-3-5-17.jpg)\n",
    "\n",
    "reference : Edwith '인공지능을 위한 선형대수' by 주재걸 교수"
   ]
  },
  {
   "cell_type": "markdown",
   "metadata": {
    "slideshow": {
     "slide_type": "subslide"
    }
   },
   "source": [
    "![](./images/0-3-5-18.jpg)\n",
    "\n",
    "reference : Edwith '인공지능을 위한 선형대수' by 주재걸 교수"
   ]
  },
  {
   "cell_type": "markdown",
   "metadata": {
    "slideshow": {
     "slide_type": "slide"
    }
   },
   "source": [
    "## 0-3-6 : Linear Transformation"
   ]
  },
  {
   "cell_type": "markdown",
   "metadata": {
    "slideshow": {
     "slide_type": "subslide"
    }
   },
   "source": [
    "![](./images/0-3-6-1.jpg)\n",
    "\n",
    "reference : Edwith '인공지능을 위한 선형대수' by 주재걸 교수"
   ]
  },
  {
   "cell_type": "markdown",
   "metadata": {
    "slideshow": {
     "slide_type": "subslide"
    }
   },
   "source": [
    "![](./images/0-3-6-2.jpg)\n",
    "\n",
    "reference : Edwith '인공지능을 위한 선형대수' by 주재걸 교수"
   ]
  },
  {
   "cell_type": "markdown",
   "metadata": {
    "slideshow": {
     "slide_type": "subslide"
    }
   },
   "source": [
    "![](./images/0-3-6-3.jpg)\n",
    "\n",
    "reference : Edwith '인공지능을 위한 선형대수' by 주재걸 교수"
   ]
  },
  {
   "cell_type": "markdown",
   "metadata": {
    "slideshow": {
     "slide_type": "subslide"
    }
   },
   "source": [
    "![](./images/0-3-6-4.jpg)\n",
    "\n",
    "reference : Edwith '인공지능을 위한 선형대수' by 주재걸 교수"
   ]
  },
  {
   "cell_type": "markdown",
   "metadata": {
    "slideshow": {
     "slide_type": "subslide"
    }
   },
   "source": [
    "![](./images/0-3-6-5.jpg)\n",
    "\n",
    "reference : Edwith '인공지능을 위한 선형대수' by 주재걸 교수"
   ]
  },
  {
   "cell_type": "markdown",
   "metadata": {
    "slideshow": {
     "slide_type": "subslide"
    }
   },
   "source": [
    "![](./images/0-3-6-6.jpg)\n",
    "\n",
    "reference : Edwith '인공지능을 위한 선형대수' by 주재걸 교수"
   ]
  },
  {
   "cell_type": "markdown",
   "metadata": {
    "slideshow": {
     "slide_type": "subslide"
    }
   },
   "source": [
    "![](./images/0-3-6-7.jpg)\n",
    "\n",
    "reference : Edwith '인공지능을 위한 선형대수' by 주재걸 교수"
   ]
  },
  {
   "cell_type": "markdown",
   "metadata": {
    "slideshow": {
     "slide_type": "subslide"
    }
   },
   "source": [
    "![](./images/0-3-6-8.jpg)\n",
    "\n",
    "reference : Edwith '인공지능을 위한 선형대수' by 주재걸 교수"
   ]
  },
  {
   "cell_type": "markdown",
   "metadata": {
    "slideshow": {
     "slide_type": "subslide"
    }
   },
   "source": [
    "![](./images/0-3-6-10.jpg)\n",
    "\n",
    "reference : Edwith '인공지능을 위한 선형대수' by 주재걸 교수"
   ]
  },
  {
   "cell_type": "markdown",
   "metadata": {
    "slideshow": {
     "slide_type": "subslide"
    }
   },
   "source": [
    "![](./images/0-3-6-11.jpg)\n",
    "\n",
    "reference : Edwith '인공지능을 위한 선형대수' by 주재걸 교수"
   ]
  },
  {
   "cell_type": "markdown",
   "metadata": {
    "slideshow": {
     "slide_type": "subslide"
    }
   },
   "source": [
    "![](./images/0-3-6-12.jpg)\n",
    "\n",
    "reference : Edwith '인공지능을 위한 선형대수' by 주재걸 교수"
   ]
  },
  {
   "cell_type": "markdown",
   "metadata": {
    "slideshow": {
     "slide_type": "subslide"
    }
   },
   "source": [
    "![](./images/0-3-6-13.jpg)\n",
    "\n",
    "reference : Edwith '인공지능을 위한 선형대수' by 주재걸 교수"
   ]
  },
  {
   "cell_type": "markdown",
   "metadata": {
    "slideshow": {
     "slide_type": "subslide"
    }
   },
   "source": [
    "![](./images/0-3-6-14.jpg)\n",
    "\n",
    "reference : Edwith '인공지능을 위한 선형대수' by 주재걸 교수"
   ]
  },
  {
   "cell_type": "markdown",
   "metadata": {
    "slideshow": {
     "slide_type": "subslide"
    }
   },
   "source": [
    "![](./images/0-3-6-15.jpg)\n",
    "\n",
    "reference : Edwith '인공지능을 위한 선형대수' by 주재걸 교수"
   ]
  },
  {
   "cell_type": "markdown",
   "metadata": {
    "slideshow": {
     "slide_type": "subslide"
    }
   },
   "source": [
    "![](./images/0-3-6-16.jpg)\n",
    "\n",
    "reference : Edwith '인공지능을 위한 선형대수' by 주재걸 교수"
   ]
  },
  {
   "cell_type": "markdown",
   "metadata": {
    "slideshow": {
     "slide_type": "subslide"
    }
   },
   "source": [
    " ![](./images/0-3-6-17.jpg)\n",
    "\n",
    "reference : Edwith '인공지능을 위한 선형대수' by 주재걸 교수"
   ]
  },
  {
   "cell_type": "markdown",
   "metadata": {
    "slideshow": {
     "slide_type": "slide"
    }
   },
   "source": [
    "## 0-3-7 : Least Squares"
   ]
  },
  {
   "cell_type": "markdown",
   "metadata": {
    "slideshow": {
     "slide_type": "subslide"
    }
   },
   "source": [
    "![](./images/0-3-7-1.jpg)\n",
    "\n",
    "reference : Edwith '인공지능을 위한 선형대수' by 주재걸 교수"
   ]
  },
  {
   "cell_type": "markdown",
   "metadata": {
    "slideshow": {
     "slide_type": "subslide"
    }
   },
   "source": [
    "![](./images/0-3-7-2.jpg)\n",
    "\n",
    "reference : Edwith '인공지능을 위한 선형대수' by 주재걸 교수"
   ]
  },
  {
   "cell_type": "markdown",
   "metadata": {
    "slideshow": {
     "slide_type": "subslide"
    }
   },
   "source": [
    "![](./images/0-3-7-3.jpg)\n",
    "\n",
    "reference : Edwith '인공지능을 위한 선형대수' by 주재걸 교수"
   ]
  },
  {
   "cell_type": "markdown",
   "metadata": {
    "slideshow": {
     "slide_type": "subslide"
    }
   },
   "source": [
    "![](./images/0-3-7-4.jpg)\n",
    "\n",
    "reference : Edwith '인공지능을 위한 선형대수' by 주재걸 교수"
   ]
  },
  {
   "cell_type": "markdown",
   "metadata": {
    "slideshow": {
     "slide_type": "subslide"
    }
   },
   "source": [
    "![](./images/0-3-7-5.jpg)\n",
    "\n",
    "reference : Edwith '인공지능을 위한 선형대수' by 주재걸 교수"
   ]
  },
  {
   "cell_type": "markdown",
   "metadata": {
    "slideshow": {
     "slide_type": "subslide"
    }
   },
   "source": [
    "![](./images/0-3-7-6.jpg)\n",
    "\n",
    "reference : Edwith '인공지능을 위한 선형대수' by 주재걸 교수"
   ]
  },
  {
   "cell_type": "markdown",
   "metadata": {
    "slideshow": {
     "slide_type": "subslide"
    }
   },
   "source": [
    "![](./images/0-3-7-7.jpg)\n",
    "\n",
    "reference : Edwith '인공지능을 위한 선형대수' by 주재걸 교수"
   ]
  },
  {
   "cell_type": "markdown",
   "metadata": {
    "slideshow": {
     "slide_type": "subslide"
    }
   },
   "source": [
    "![](./images/0-3-7-8.jpg)\n",
    "\n",
    "reference : Edwith '인공지능을 위한 선형대수' by 주재걸 교수"
   ]
  },
  {
   "cell_type": "markdown",
   "metadata": {
    "slideshow": {
     "slide_type": "subslide"
    }
   },
   "source": [
    "![](./images/0-3-7-9.jpg)\n",
    "\n",
    "reference : Edwith '인공지능을 위한 선형대수' by 주재걸 교수"
   ]
  },
  {
   "cell_type": "markdown",
   "metadata": {
    "slideshow": {
     "slide_type": "subslide"
    }
   },
   "source": [
    "![](./images/0-3-7-10.jpg)\n",
    "\n",
    "reference : Edwith '인공지능을 위한 선형대수' by 주재걸 교수"
   ]
  },
  {
   "cell_type": "markdown",
   "metadata": {
    "slideshow": {
     "slide_type": "subslide"
    }
   },
   "source": [
    "![](./images/0-3-7-11.jpg)\n",
    "\n",
    "reference : Edwith '인공지능을 위한 선형대수' by 주재걸 교수"
   ]
  },
  {
   "cell_type": "markdown",
   "metadata": {
    "slideshow": {
     "slide_type": "subslide"
    }
   },
   "source": [
    "![](./images/0-3-7-12.jpg)\n",
    "\n",
    "reference : Edwith '인공지능을 위한 선형대수' by 주재걸 교수"
   ]
  },
  {
   "cell_type": "markdown",
   "metadata": {
    "slideshow": {
     "slide_type": "subslide"
    }
   },
   "source": [
    "![](./images/0-3-7-13.jpg)\n",
    "\n",
    "reference : Edwith '인공지능을 위한 선형대수' by 주재걸 교수"
   ]
  },
  {
   "cell_type": "markdown",
   "metadata": {
    "slideshow": {
     "slide_type": "subslide"
    }
   },
   "source": [
    "![](./images/0-3-7-14.jpg)\n",
    "\n",
    "reference : Edwith '인공지능을 위한 선형대수' by 주재걸 교수"
   ]
  },
  {
   "cell_type": "markdown",
   "metadata": {
    "slideshow": {
     "slide_type": "subslide"
    }
   },
   "source": [
    "![](./images/0-3-7-15.jpg)\n",
    "\n",
    "reference : Edwith '인공지능을 위한 선형대수' by 주재걸 교수"
   ]
  },
  {
   "cell_type": "markdown",
   "metadata": {
    "slideshow": {
     "slide_type": "subslide"
    }
   },
   "source": [
    "![](./images/0-3-7-16.jpg)\n",
    "\n",
    "reference : Edwith '인공지능을 위한 선형대수' by 주재걸 교수"
   ]
  },
  {
   "cell_type": "markdown",
   "metadata": {
    "slideshow": {
     "slide_type": "subslide"
    }
   },
   "source": [
    "![](./images/0-3-7-17.jpg)\n",
    "\n",
    "reference : Edwith '인공지능을 위한 선형대수' by 주재걸 교수"
   ]
  },
  {
   "cell_type": "markdown",
   "metadata": {
    "slideshow": {
     "slide_type": "subslide"
    }
   },
   "source": [
    "![](./images/0-3-7-18.jpg)\n",
    "\n",
    "reference : Edwith '인공지능을 위한 선형대수' by 주재걸 교수"
   ]
  },
  {
   "cell_type": "markdown",
   "metadata": {
    "slideshow": {
     "slide_type": "subslide"
    }
   },
   "source": [
    "![](./images/0-3-7-19.jpg)\n",
    "\n",
    "reference : Edwith '인공지능을 위한 선형대수' by 주재걸 교수"
   ]
  },
  {
   "cell_type": "markdown",
   "metadata": {
    "slideshow": {
     "slide_type": "subslide"
    }
   },
   "source": [
    "![](./images/0-3-7-20.jpg)\n",
    "\n",
    "reference : Edwith '인공지능을 위한 선형대수' by 주재걸 교수"
   ]
  },
  {
   "cell_type": "markdown",
   "metadata": {
    "slideshow": {
     "slide_type": "subslide"
    }
   },
   "source": [
    "![](./images/0-3-7-21.jpg)\n",
    "\n",
    "reference : Edwith '인공지능을 위한 선형대수' by 주재걸 교수"
   ]
  },
  {
   "cell_type": "markdown",
   "metadata": {
    "slideshow": {
     "slide_type": "subslide"
    }
   },
   "source": [
    "![](./images/0-3-7-22.jpg)\n",
    "\n",
    "reference : Edwith '인공지능을 위한 선형대수' by 주재걸 교수"
   ]
  },
  {
   "cell_type": "markdown",
   "metadata": {
    "slideshow": {
     "slide_type": "subslide"
    }
   },
   "source": [
    "![](./images/0-3-7-23.jpg)\n",
    "\n",
    "reference : Edwith '인공지능을 위한 선형대수' by 주재걸 교수"
   ]
  },
  {
   "cell_type": "markdown",
   "metadata": {
    "slideshow": {
     "slide_type": "subslide"
    }
   },
   "source": [
    "![](./images/0-3-7-24.jpg)\n",
    "\n",
    "reference : Edwith '인공지능을 위한 선형대수' by 주재걸 교수"
   ]
  },
  {
   "cell_type": "markdown",
   "metadata": {
    "slideshow": {
     "slide_type": "subslide"
    }
   },
   "source": [
    "![](./images/0-3-7-25.jpg)\n",
    "\n",
    "reference : Edwith '인공지능을 위한 선형대수' by 주재걸 교수"
   ]
  },
  {
   "cell_type": "markdown",
   "metadata": {
    "slideshow": {
     "slide_type": "subslide"
    }
   },
   "source": [
    "![](./images/0-3-7-26.jpg)\n",
    "\n",
    "reference : Edwith '인공지능을 위한 선형대수' by 주재걸 교수"
   ]
  },
  {
   "cell_type": "markdown",
   "metadata": {
    "slideshow": {
     "slide_type": "subslide"
    }
   },
   "source": [
    "![](./images/0-3-7-27.jpg)\n",
    "\n",
    "reference : Edwith '인공지능을 위한 선형대수' by 주재걸 교수"
   ]
  },
  {
   "cell_type": "markdown",
   "metadata": {
    "slideshow": {
     "slide_type": "subslide"
    }
   },
   "source": [
    "![](./images/0-3-7-28.jpg)\n",
    "\n",
    "reference : Edwith '인공지능을 위한 선형대수' by 주재걸 교수"
   ]
  },
  {
   "cell_type": "markdown",
   "metadata": {
    "slideshow": {
     "slide_type": "subslide"
    }
   },
   "source": [
    "![](./images/0-3-7-29.jpg)\n",
    "\n",
    "reference : Edwith '인공지능을 위한 선형대수' by 주재걸 교수"
   ]
  },
  {
   "cell_type": "markdown",
   "metadata": {
    "slideshow": {
     "slide_type": "subslide"
    }
   },
   "source": [
    "![](./images/0-3-7-30.jpg)\n",
    "\n",
    "reference : Edwith '인공지능을 위한 선형대수' by 주재걸 교수"
   ]
  },
  {
   "cell_type": "markdown",
   "metadata": {
    "slideshow": {
     "slide_type": "subslide"
    }
   },
   "source": [
    "![](./images/0-3-7-31.jpg)\n",
    "\n",
    "reference : Edwith '인공지능을 위한 선형대수' by 주재걸 교수"
   ]
  },
  {
   "cell_type": "markdown",
   "metadata": {
    "slideshow": {
     "slide_type": "subslide"
    }
   },
   "source": [
    "![](./images/0-3-7-32.jpg)\n",
    "\n",
    "reference : Edwith '인공지능을 위한 선형대수' by 주재걸 교수"
   ]
  },
  {
   "cell_type": "markdown",
   "metadata": {
    "slideshow": {
     "slide_type": "subslide"
    }
   },
   "source": [
    "![](./images/0-3-7-33.jpg)\n",
    "\n",
    "reference : Edwith '인공지능을 위한 선형대수' by 주재걸 교수"
   ]
  },
  {
   "cell_type": "markdown",
   "metadata": {
    "slideshow": {
     "slide_type": "subslide"
    }
   },
   "source": [
    "![](./images/0-3-7-34.jpg)\n",
    "\n",
    "reference : Edwith '인공지능을 위한 선형대수' by 주재걸 교수"
   ]
  },
  {
   "cell_type": "markdown",
   "metadata": {
    "slideshow": {
     "slide_type": "subslide"
    }
   },
   "source": [
    "![](./images/0-3-7-35.jpg)\n",
    "\n",
    "reference : Edwith '인공지능을 위한 선형대수' by 주재걸 교수"
   ]
  },
  {
   "cell_type": "markdown",
   "metadata": {
    "slideshow": {
     "slide_type": "subslide"
    }
   },
   "source": [
    "![](./images/0-3-7-36.jpg)\n",
    "\n",
    "reference : Edwith '인공지능을 위한 선형대수' by 주재걸 교수"
   ]
  },
  {
   "cell_type": "markdown",
   "metadata": {
    "slideshow": {
     "slide_type": "subslide"
    }
   },
   "source": [
    "![](./images/0-3-7-37.jpg)\n",
    "\n",
    "reference : Edwith '인공지능을 위한 선형대수' by 주재걸 교수"
   ]
  },
  {
   "cell_type": "markdown",
   "metadata": {
    "slideshow": {
     "slide_type": "subslide"
    }
   },
   "source": [
    "![](./images/0-3-7-38.jpg)\n",
    "\n",
    "reference : Edwith '인공지능을 위한 선형대수' by 주재걸 교수"
   ]
  },
  {
   "cell_type": "markdown",
   "metadata": {
    "slideshow": {
     "slide_type": "subslide"
    }
   },
   "source": [
    "![](./images/0-3-7-39.jpg)\n",
    "\n",
    "reference : Edwith '인공지능을 위한 선형대수' by 주재걸 교수"
   ]
  },
  {
   "cell_type": "markdown",
   "metadata": {
    "slideshow": {
     "slide_type": "subslide"
    }
   },
   "source": [
    "![](./images/0-3-7-40.jpg)\n",
    "\n",
    "reference : Edwith '인공지능을 위한 선형대수' by 주재걸 교수"
   ]
  },
  {
   "cell_type": "markdown",
   "metadata": {
    "slideshow": {
     "slide_type": "subslide"
    }
   },
   "source": [
    "![](./images/0-3-7-41.jpg)\n",
    "\n",
    "reference : Edwith '인공지능을 위한 선형대수' by 주재걸 교수"
   ]
  },
  {
   "cell_type": "markdown",
   "metadata": {
    "slideshow": {
     "slide_type": "subslide"
    }
   },
   "source": [
    "![](./images/0-3-7-42.jpg)\n",
    "\n",
    "reference : Edwith '인공지능을 위한 선형대수' by 주재걸 교수"
   ]
  },
  {
   "cell_type": "markdown",
   "metadata": {
    "slideshow": {
     "slide_type": "subslide"
    }
   },
   "source": [
    "![](./images/0-3-7-43.jpg)\n",
    "\n",
    "reference : Edwith '인공지능을 위한 선형대수' by 주재걸 교수"
   ]
  },
  {
   "cell_type": "markdown",
   "metadata": {
    "slideshow": {
     "slide_type": "subslide"
    }
   },
   "source": [
    "![](./images/0-3-7-44.jpg)\n",
    "\n",
    "reference : Edwith '인공지능을 위한 선형대수' by 주재걸 교수"
   ]
  },
  {
   "cell_type": "markdown",
   "metadata": {
    "slideshow": {
     "slide_type": "subslide"
    }
   },
   "source": [
    "![](./images/0-3-7-45.jpg)\n",
    "\n",
    "reference : Edwith '인공지능을 위한 선형대수' by 주재걸 교수"
   ]
  },
  {
   "cell_type": "markdown",
   "metadata": {
    "slideshow": {
     "slide_type": "subslide"
    }
   },
   "source": [
    "![](./images/0-3-7-46.jpg)\n",
    "\n",
    "reference : Edwith '인공지능을 위한 선형대수' by 주재걸 교수"
   ]
  },
  {
   "cell_type": "markdown",
   "metadata": {
    "slideshow": {
     "slide_type": "slide"
    }
   },
   "source": [
    "## 0-3-8 : Linear Algebra Hands-on 02\n",
    "\n",
    "### [Hands-on]\n",
    "\n",
    "<a href=\"../Linear_Algebra/02_Least_Square/05_Hands-on_02.ipynb\">05_Hands-on_02.ipynb</a>"
   ]
  },
  {
   "cell_type": "markdown",
   "metadata": {
    "slideshow": {
     "slide_type": "slide"
    }
   },
   "source": [
    "## 0-3-9 : Eigendecompostion"
   ]
  },
  {
   "cell_type": "markdown",
   "metadata": {
    "slideshow": {
     "slide_type": "subslide"
    }
   },
   "source": [
    "![](./images/0-3-9-1.jpg)\n",
    "\n",
    "reference : Edwith '인공지능을 위한 선형대수' by 주재걸 교수"
   ]
  },
  {
   "cell_type": "markdown",
   "metadata": {
    "slideshow": {
     "slide_type": "subslide"
    }
   },
   "source": [
    "![](./images/0-3-9-2.jpg)\n",
    "\n",
    "reference : Edwith '인공지능을 위한 선형대수' by 주재걸 교수"
   ]
  },
  {
   "cell_type": "markdown",
   "metadata": {
    "slideshow": {
     "slide_type": "subslide"
    }
   },
   "source": [
    "![](./images/0-3-9-3.jpg)\n",
    "\n",
    "reference : Edwith '인공지능을 위한 선형대수' by 주재걸 교수"
   ]
  },
  {
   "cell_type": "markdown",
   "metadata": {
    "slideshow": {
     "slide_type": "subslide"
    }
   },
   "source": [
    "![](./images/0-3-9-4.jpg)\n",
    "\n",
    "reference : Edwith '인공지능을 위한 선형대수' by 주재걸 교수"
   ]
  },
  {
   "cell_type": "markdown",
   "metadata": {
    "slideshow": {
     "slide_type": "subslide"
    }
   },
   "source": [
    "![](./images/0-3-9-5.jpg)\n",
    "\n",
    "reference : Edwith '인공지능을 위한 선형대수' by 주재걸 교수"
   ]
  },
  {
   "cell_type": "markdown",
   "metadata": {
    "slideshow": {
     "slide_type": "subslide"
    }
   },
   "source": [
    "![](./images/0-3-9-6.jpg)\n",
    "\n",
    "reference : Edwith '인공지능을 위한 선형대수' by 주재걸 교수"
   ]
  },
  {
   "cell_type": "markdown",
   "metadata": {
    "slideshow": {
     "slide_type": "subslide"
    }
   },
   "source": [
    "![](./images/0-3-9-7.jpg)\n",
    "\n",
    "reference : Edwith '인공지능을 위한 선형대수' by 주재걸 교수"
   ]
  },
  {
   "cell_type": "markdown",
   "metadata": {
    "slideshow": {
     "slide_type": "subslide"
    }
   },
   "source": [
    "![](./images/0-3-9-8.jpg)\n",
    "\n",
    "reference : Edwith '인공지능을 위한 선형대수' by 주재걸 교수"
   ]
  },
  {
   "cell_type": "markdown",
   "metadata": {
    "slideshow": {
     "slide_type": "subslide"
    }
   },
   "source": [
    "![](./images/0-3-9-9.jpg)\n",
    "\n",
    "reference : Edwith '인공지능을 위한 선형대수' by 주재걸 교수"
   ]
  },
  {
   "cell_type": "markdown",
   "metadata": {
    "slideshow": {
     "slide_type": "subslide"
    }
   },
   "source": [
    "![](./images/0-3-9-10.jpg)\n",
    "\n",
    "reference : Edwith '인공지능을 위한 선형대수' by 주재걸 교수"
   ]
  },
  {
   "cell_type": "markdown",
   "metadata": {
    "slideshow": {
     "slide_type": "subslide"
    }
   },
   "source": [
    "![](./images/0-3-9-11.jpg)\n",
    "\n",
    "reference : Edwith '인공지능을 위한 선형대수' by 주재걸 교수"
   ]
  },
  {
   "cell_type": "markdown",
   "metadata": {
    "slideshow": {
     "slide_type": "subslide"
    }
   },
   "source": [
    "![](./images/0-3-9-12.jpg)\n",
    "\n",
    "reference : Edwith '인공지능을 위한 선형대수' by 주재걸 교수"
   ]
  },
  {
   "cell_type": "markdown",
   "metadata": {
    "slideshow": {
     "slide_type": "subslide"
    }
   },
   "source": [
    "![](./images/0-3-9-13.jpg)\n",
    "\n",
    "reference : Edwith '인공지능을 위한 선형대수' by 주재걸 교수"
   ]
  },
  {
   "cell_type": "markdown",
   "metadata": {
    "slideshow": {
     "slide_type": "subslide"
    }
   },
   "source": [
    "![](./images/0-3-9-14.jpg)\n",
    "\n",
    "reference : Edwith '인공지능을 위한 선형대수' by 주재걸 교수"
   ]
  },
  {
   "cell_type": "markdown",
   "metadata": {
    "slideshow": {
     "slide_type": "subslide"
    }
   },
   "source": [
    "![](./images/0-3-9-15.jpg)\n",
    "\n",
    "reference : Edwith '인공지능을 위한 선형대수' by 주재걸 교수"
   ]
  },
  {
   "cell_type": "markdown",
   "metadata": {
    "slideshow": {
     "slide_type": "subslide"
    }
   },
   "source": [
    "![](./images/0-3-9-16.jpg)\n",
    "\n",
    "reference : Edwith '인공지능을 위한 선형대수' by 주재걸 교수"
   ]
  },
  {
   "cell_type": "markdown",
   "metadata": {
    "slideshow": {
     "slide_type": "subslide"
    }
   },
   "source": [
    "![](./images/0-3-9-17.jpg)\n",
    "\n",
    "reference : Edwith '인공지능을 위한 선형대수' by 주재걸 교수"
   ]
  },
  {
   "cell_type": "markdown",
   "metadata": {
    "slideshow": {
     "slide_type": "subslide"
    }
   },
   "source": [
    "![](./images/0-3-9-18.jpg)\n",
    "\n",
    "reference : Edwith '인공지능을 위한 선형대수' by 주재걸 교수"
   ]
  },
  {
   "cell_type": "markdown",
   "metadata": {
    "slideshow": {
     "slide_type": "subslide"
    }
   },
   "source": [
    "![](./images/0-3-9-19.jpg)\n",
    "\n",
    "reference : Edwith '인공지능을 위한 선형대수' by 주재걸 교수"
   ]
  },
  {
   "cell_type": "markdown",
   "metadata": {
    "slideshow": {
     "slide_type": "subslide"
    }
   },
   "source": [
    "![](./images/0-3-9-20.jpg)\n",
    "\n",
    "reference : Edwith '인공지능을 위한 선형대수' by 주재걸 교수"
   ]
  },
  {
   "cell_type": "markdown",
   "metadata": {
    "slideshow": {
     "slide_type": "subslide"
    }
   },
   "source": [
    "![](./images/0-3-9-21.jpg)\n",
    "\n",
    "reference : Edwith '인공지능을 위한 선형대수' by 주재걸 교수"
   ]
  },
  {
   "cell_type": "markdown",
   "metadata": {
    "slideshow": {
     "slide_type": "subslide"
    }
   },
   "source": [
    "![](./images/0-3-9-22.jpg)\n",
    "\n",
    "reference : Edwith '인공지능을 위한 선형대수' by 주재걸 교수"
   ]
  },
  {
   "cell_type": "markdown",
   "metadata": {
    "slideshow": {
     "slide_type": "subslide"
    }
   },
   "source": [
    "![](./images/0-3-9-23.jpg)\n",
    "\n",
    "reference : Edwith '인공지능을 위한 선형대수' by 주재걸 교수"
   ]
  },
  {
   "cell_type": "markdown",
   "metadata": {
    "slideshow": {
     "slide_type": "subslide"
    }
   },
   "source": [
    "![](./images/0-3-9-24.jpg)\n",
    "\n",
    "reference : Edwith '인공지능을 위한 선형대수' by 주재걸 교수"
   ]
  },
  {
   "cell_type": "markdown",
   "metadata": {
    "slideshow": {
     "slide_type": "subslide"
    }
   },
   "source": [
    "![](./images/0-3-9-25.jpg)\n",
    "\n",
    "reference : Edwith '인공지능을 위한 선형대수' by 주재걸 교수"
   ]
  },
  {
   "cell_type": "markdown",
   "metadata": {
    "slideshow": {
     "slide_type": "subslide"
    }
   },
   "source": [
    "![](./images/0-3-9-26.jpg)\n",
    "\n",
    "reference : Edwith '인공지능을 위한 선형대수' by 주재걸 교수"
   ]
  },
  {
   "cell_type": "markdown",
   "metadata": {
    "slideshow": {
     "slide_type": "subslide"
    }
   },
   "source": [
    "![](./images/0-3-9-27.jpg)\n",
    "\n",
    "reference : Edwith '인공지능을 위한 선형대수' by 주재걸 교수"
   ]
  },
  {
   "cell_type": "markdown",
   "metadata": {
    "slideshow": {
     "slide_type": "subslide"
    }
   },
   "source": [
    "![](./images/0-3-9-28.jpg)\n",
    "\n",
    "reference : Edwith '인공지능을 위한 선형대수' by 주재걸 교수"
   ]
  },
  {
   "cell_type": "markdown",
   "metadata": {
    "slideshow": {
     "slide_type": "subslide"
    }
   },
   "source": [
    "![](./images/0-3-9-29.jpg)\n",
    "\n",
    "reference : Edwith '인공지능을 위한 선형대수' by 주재걸 교수"
   ]
  },
  {
   "cell_type": "markdown",
   "metadata": {
    "slideshow": {
     "slide_type": "subslide"
    }
   },
   "source": [
    "![](./images/0-3-9-30.jpg)\n",
    "\n",
    "reference : Edwith '인공지능을 위한 선형대수' by 주재걸 교수"
   ]
  },
  {
   "cell_type": "markdown",
   "metadata": {
    "slideshow": {
     "slide_type": "subslide"
    }
   },
   "source": [
    "![](./images/0-3-9-31.jpg)\n",
    "\n",
    "reference : Edwith '인공지능을 위한 선형대수' by 주재걸 교수"
   ]
  },
  {
   "cell_type": "markdown",
   "metadata": {
    "slideshow": {
     "slide_type": "subslide"
    }
   },
   "source": [
    "![](./images/0-3-9-32.jpg)\n",
    "\n",
    "reference : Edwith '인공지능을 위한 선형대수' by 주재걸 교수"
   ]
  },
  {
   "cell_type": "markdown",
   "metadata": {
    "slideshow": {
     "slide_type": "slide"
    }
   },
   "source": [
    "## 0-3-10 : Linear Algebra Hands-on 03\n",
    "\n",
    "### [Hands-on]\n",
    "\n",
    "<a href=\"../Linear_Algebra/03_Eigendecomposition/03_Hands-on_03.ipynb\">03_Hands-on_03.ipynb</a>"
   ]
  },
  {
   "cell_type": "markdown",
   "metadata": {
    "slideshow": {
     "slide_type": "slide"
    }
   },
   "source": [
    "## 0-3-11 : Singular Value Decomposition"
   ]
  },
  {
   "cell_type": "markdown",
   "metadata": {
    "slideshow": {
     "slide_type": "subslide"
    }
   },
   "source": [
    "![](./images/0-3-11-1.jpg)\n",
    "\n",
    "reference : Edwith '인공지능을 위한 선형대수' by 주재걸 교수"
   ]
  },
  {
   "cell_type": "markdown",
   "metadata": {
    "slideshow": {
     "slide_type": "subslide"
    }
   },
   "source": [
    "![](./images/0-3-11-2.jpg)\n",
    "\n",
    "reference : Edwith '인공지능을 위한 선형대수' by 주재걸 교수"
   ]
  },
  {
   "cell_type": "markdown",
   "metadata": {
    "slideshow": {
     "slide_type": "subslide"
    }
   },
   "source": [
    "![](./images/0-3-11-3.jpg)\n",
    "\n",
    "reference : Edwith '인공지능을 위한 선형대수' by 주재걸 교수"
   ]
  },
  {
   "cell_type": "markdown",
   "metadata": {
    "slideshow": {
     "slide_type": "subslide"
    }
   },
   "source": [
    "![](./images/0-3-11-4.jpg)\n",
    "\n",
    "reference : Edwith '인공지능을 위한 선형대수' by 주재걸 교수"
   ]
  },
  {
   "cell_type": "markdown",
   "metadata": {
    "slideshow": {
     "slide_type": "subslide"
    }
   },
   "source": [
    "![](./images/0-3-11-5.jpg)\n",
    "\n",
    "reference : Edwith '인공지능을 위한 선형대수' by 주재걸 교수"
   ]
  },
  {
   "cell_type": "markdown",
   "metadata": {
    "slideshow": {
     "slide_type": "subslide"
    }
   },
   "source": [
    "![](./images/0-3-11-6.jpg)\n",
    "\n",
    "reference : Edwith '인공지능을 위한 선형대수' by 주재걸 교수"
   ]
  },
  {
   "cell_type": "markdown",
   "metadata": {
    "slideshow": {
     "slide_type": "subslide"
    }
   },
   "source": [
    "![](./images/0-3-11-7.jpg)\n",
    "\n",
    "reference : Edwith '인공지능을 위한 선형대수' by 주재걸 교수"
   ]
  },
  {
   "cell_type": "markdown",
   "metadata": {
    "slideshow": {
     "slide_type": "subslide"
    }
   },
   "source": [
    "![](./images/0-3-11-8.jpg)\n",
    "\n",
    "reference : Edwith '인공지능을 위한 선형대수' by 주재걸 교수"
   ]
  },
  {
   "cell_type": "markdown",
   "metadata": {
    "slideshow": {
     "slide_type": "subslide"
    }
   },
   "source": [
    "![](./images/0-3-11-9.jpg)\n",
    "\n",
    "reference : Edwith '인공지능을 위한 선형대수' by 주재걸 교수"
   ]
  },
  {
   "cell_type": "markdown",
   "metadata": {
    "slideshow": {
     "slide_type": "subslide"
    }
   },
   "source": [
    "![](./images/0-3-11-10.jpg)\n",
    "\n",
    "reference : Edwith '인공지능을 위한 선형대수' by 주재걸 교수"
   ]
  },
  {
   "cell_type": "markdown",
   "metadata": {
    "slideshow": {
     "slide_type": "subslide"
    }
   },
   "source": [
    "![](./images/0-3-11-11.jpg)\n",
    "\n",
    "reference : Edwith '인공지능을 위한 선형대수' by 주재걸 교수"
   ]
  },
  {
   "cell_type": "markdown",
   "metadata": {
    "slideshow": {
     "slide_type": "subslide"
    }
   },
   "source": [
    "![](./images/0-3-11-12.jpg)\n",
    "\n",
    "reference : Edwith '인공지능을 위한 선형대수' by 주재걸 교수"
   ]
  },
  {
   "cell_type": "markdown",
   "metadata": {
    "slideshow": {
     "slide_type": "subslide"
    }
   },
   "source": [
    "![](./images/0-3-11-13.jpg)\n",
    "\n",
    "reference : Edwith '인공지능을 위한 선형대수' by 주재걸 교수"
   ]
  },
  {
   "cell_type": "markdown",
   "metadata": {
    "slideshow": {
     "slide_type": "subslide"
    }
   },
   "source": [
    "![](./images/0-3-11-14.jpg)\n",
    "\n",
    "reference : Edwith '인공지능을 위한 선형대수' by 주재걸 교수"
   ]
  },
  {
   "cell_type": "markdown",
   "metadata": {
    "slideshow": {
     "slide_type": "subslide"
    }
   },
   "source": [
    "![](./images/0-3-11-15.jpg)\n",
    "\n",
    "reference : Edwith '인공지능을 위한 선형대수' by 주재걸 교수"
   ]
  },
  {
   "cell_type": "markdown",
   "metadata": {
    "slideshow": {
     "slide_type": "subslide"
    }
   },
   "source": [
    "![](./images/0-3-11-16.jpg)\n",
    "\n",
    "reference : Edwith '인공지능을 위한 선형대수' by 주재걸 교수"
   ]
  },
  {
   "cell_type": "markdown",
   "metadata": {
    "slideshow": {
     "slide_type": "subslide"
    }
   },
   "source": [
    "![](./images/0-3-11-17.jpg)\n",
    "\n",
    "reference : Edwith '인공지능을 위한 선형대수' by 주재걸 교수"
   ]
  },
  {
   "cell_type": "markdown",
   "metadata": {
    "slideshow": {
     "slide_type": "subslide"
    }
   },
   "source": [
    "![](./images/0-3-11-18.jpg)\n",
    "\n",
    "reference : Edwith '인공지능을 위한 선형대수' by 주재걸 교수"
   ]
  },
  {
   "cell_type": "markdown",
   "metadata": {
    "slideshow": {
     "slide_type": "subslide"
    }
   },
   "source": [
    "![](./images/0-3-11-19.jpg)\n",
    "\n",
    "reference : Edwith '인공지능을 위한 선형대수' by 주재걸 교수"
   ]
  },
  {
   "cell_type": "markdown",
   "metadata": {
    "slideshow": {
     "slide_type": "subslide"
    }
   },
   "source": [
    "![](./images/0-3-11-20.jpg)\n",
    "\n",
    "reference : Edwith '인공지능을 위한 선형대수' by 주재걸 교수"
   ]
  },
  {
   "cell_type": "markdown",
   "metadata": {
    "slideshow": {
     "slide_type": "subslide"
    }
   },
   "source": [
    "![](./images/0-3-11-21.jpg)\n",
    "\n",
    "reference : Edwith '인공지능을 위한 선형대수' by 주재걸 교수"
   ]
  }
 ],
 "metadata": {
  "celltoolbar": "Slideshow",
  "kernelspec": {
   "display_name": "dlnd",
   "language": "python",
   "name": "dlnd"
  },
  "language_info": {
   "codemirror_mode": {
    "name": "ipython",
    "version": 3
   },
   "file_extension": ".py",
   "mimetype": "text/x-python",
   "name": "python",
   "nbconvert_exporter": "python",
   "pygments_lexer": "ipython3",
   "version": "3.6.9"
  }
 },
 "nbformat": 4,
 "nbformat_minor": 2
}
